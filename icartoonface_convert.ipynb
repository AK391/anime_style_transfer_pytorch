{
 "cells": [
  {
   "cell_type": "code",
   "execution_count": 9,
   "metadata": {},
   "outputs": [],
   "source": [
    "import os\n",
    "import pandas as pd\n",
    "from PIL import Image"
   ]
  },
  {
   "cell_type": "code",
   "execution_count": 10,
   "metadata": {},
   "outputs": [],
   "source": [
    "train_image_folder = 'datasets/icartoon/images/icartoonface_dettrain'\n",
    "valid_image_folder = 'datasets/icartoon/images/icartoonface_detval'\n",
    "\n",
    "train_label_folder = 'datasets/icartoon/labels/icartoonface_dettrain'\n",
    "valid_label_folder = 'datasets/icartoon/labels/icartoonface_detval'\n",
    "\n",
    "train_anno_path = 'datasets/icartoon/icartoonface_dettrain.csv'\n",
    "valid_anno_path = 'datasets/icartoon/icartoonface_detval.csv'"
   ]
  },
  {
   "cell_type": "code",
   "execution_count": 11,
   "metadata": {},
   "outputs": [],
   "source": [
    "if not os.path.exists(train_label_folder):\n",
    "    os.makedirs(train_label_folder)\n",
    "\n",
    "if not os.path.exists(valid_label_folder):\n",
    "    os.makedirs(valid_label_folder)"
   ]
  },
  {
   "cell_type": "code",
   "execution_count": 12,
   "metadata": {},
   "outputs": [],
   "source": [
    "train_image_paths = [os.path.join(train_image_folder, file_name) for file_name in os.listdir(train_image_folder)]\n",
    "valid_image_paths = [os.path.join(valid_image_folder, file_name) for file_name in os.listdir(valid_image_folder)]"
   ]
  },
  {
   "cell_type": "code",
   "execution_count": 13,
   "metadata": {},
   "outputs": [],
   "source": [
    "train_anno_df = pd.read_csv(train_anno_path, header=None)\n",
    "valid_anno_df = pd.read_csv(valid_anno_path, header=None)"
   ]
  },
  {
   "cell_type": "code",
   "execution_count": 14,
   "metadata": {},
   "outputs": [],
   "source": [
    "file_name = train_anno_df[0].values\n",
    "xmin = train_anno_df[1].values - 1\n",
    "ymin = train_anno_df[2].values - 1\n",
    "xmax = train_anno_df[3].values\n",
    "ymax = train_anno_df[4].values"
   ]
  },
  {
   "cell_type": "code",
   "execution_count": 15,
   "metadata": {},
   "outputs": [],
   "source": [
    "o_width = xmax - xmin\n",
    "o_height = ymax - ymin"
   ]
  },
  {
   "cell_type": "code",
   "execution_count": 16,
   "metadata": {},
   "outputs": [],
   "source": [
    "for file_name in os.listdir(train_image_folder):\n",
    "    image_path = os.path.join(train_image_folder, file_name)\n",
    "    label_path = os.path.join(train_label_folder, file_name.replace('.jpg', '.txt'))\n",
    "    image = Image.open(image_path)\n",
    "    width, height = image.size\n",
    "\n",
    "    data = train_anno_df[train_anno_df[0] == file_name]\n",
    "\n",
    "    with open(label_path, \"w\") as f:\n",
    "        for name, xmin, ymin, xmax, ymax in data.values:\n",
    "            x_center = ((xmax - xmin) / 2) + xmin\n",
    "            y_center = ((ymax - ymin) / 2) + ymin\n",
    "            o_width = xmax - xmin\n",
    "            o_height = ymax - ymin\n",
    "\n",
    "            x_center = x_center / width\n",
    "            y_center = y_center / height\n",
    "            o_width = o_width / width\n",
    "            o_height = o_height / height\n",
    "\n",
    "            line = f\"0 {x_center} {y_center} {o_width} {o_height}\\n\"\n",
    "            f.write(line)\n"
   ]
  },
  {
   "cell_type": "code",
   "execution_count": 18,
   "metadata": {},
   "outputs": [],
   "source": [
    "for file_name in os.listdir(valid_image_folder):\n",
    "    image_path = os.path.join(valid_image_folder, file_name)\n",
    "    label_path = os.path.join(valid_label_folder, file_name.replace('.jpg', '.txt'))\n",
    "    image = Image.open(image_path)\n",
    "    width, height = image.size\n",
    "\n",
    "    data = valid_anno_df[valid_anno_df[0] == file_name]\n",
    "\n",
    "    with open(label_path, \"w\") as f:\n",
    "        for name, xmin, ymin, xmax, ymax, _ in data.values:\n",
    "            x_center = ((xmax - xmin) / 2) + xmin\n",
    "            y_center = ((ymax - ymin) / 2) + ymin\n",
    "            o_width = xmax - xmin\n",
    "            o_height = ymax - ymin\n",
    "\n",
    "            x_center = x_center / width\n",
    "            y_center = y_center / height\n",
    "            o_width = o_width / width\n",
    "            o_height = o_height / height\n",
    "\n",
    "            line = f\"0 {x_center} {y_center} {o_width} {o_height}\\n\"\n",
    "            f.write(line)\n"
   ]
  },
  {
   "cell_type": "code",
   "execution_count": null,
   "metadata": {},
   "outputs": [],
   "source": []
  }
 ],
 "metadata": {
  "interpreter": {
   "hash": "69757039127ae81e7ff693d4d84b56a04348dcc7958adeff9541337a3da5faa7"
  },
  "kernelspec": {
   "display_name": "Python 3.6.13 64-bit ('torch_py36': conda)",
   "language": "python",
   "name": "python3"
  },
  "language_info": {
   "codemirror_mode": {
    "name": "ipython",
    "version": 3
   },
   "file_extension": ".py",
   "mimetype": "text/x-python",
   "name": "python",
   "nbconvert_exporter": "python",
   "pygments_lexer": "ipython3",
   "version": "3.6.13"
  },
  "orig_nbformat": 4
 },
 "nbformat": 4,
 "nbformat_minor": 2
}
